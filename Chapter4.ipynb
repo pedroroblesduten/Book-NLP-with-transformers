{
 "cells": [
  {
   "cell_type": "markdown",
   "id": "8ce9beb4-5439-4f3e-a08e-9e6d2cc3a6d9",
   "metadata": {},
   "source": [
    "## CHAPTER 4: MULTILINGUAL NAMED ENTITY RECOGNITION"
   ]
  },
  {
   "cell_type": "code",
   "execution_count": 1,
   "id": "4240dc8a-cb92-46f7-ad62-8fe545ec7686",
   "metadata": {},
   "outputs": [],
   "source": [
    "from datasets import get_dataset_config_names"
   ]
  },
  {
   "cell_type": "code",
   "execution_count": null,
   "id": "689fc5e2-e34b-4698-b689-1e4c1ac07e8c",
   "metadata": {},
   "outputs": [],
   "source": []
  }
 ],
 "metadata": {
  "kernelspec": {
   "display_name": "Python 3 (ipykernel)",
   "language": "python",
   "name": "python3"
  },
  "language_info": {
   "codemirror_mode": {
    "name": "ipython",
    "version": 3
   },
   "file_extension": ".py",
   "mimetype": "text/x-python",
   "name": "python",
   "nbconvert_exporter": "python",
   "pygments_lexer": "ipython3",
   "version": "3.9.13"
  }
 },
 "nbformat": 4,
 "nbformat_minor": 5
}
